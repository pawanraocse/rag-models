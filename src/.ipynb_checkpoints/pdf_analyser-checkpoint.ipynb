{
 "cells": [
  {
   "cell_type": "code",
   "execution_count": 1,
   "metadata": {},
   "outputs": [],
   "source": [
    "import os\n",
    "from dotenv import load_dotenv\n",
    "\n",
    "load_dotenv()\n",
    "\n",
    "OPENAI_API_KEY = os.getenv(\"OPENAI_API_KEY\")\n",
    "MODEL = \"jarvis\"\n",
    "#MODEL = \"mixtral:8x7b\"\n",
    "#MODEL = \"llama2\"\n"
   ]
  },
  {
   "cell_type": "code",
   "execution_count": 2,
   "metadata": {},
   "outputs": [],
   "source": [
    "from langchain_community.llms import Ollama\n",
    "from langchain_openai.chat_models import ChatOpenAI\n",
    "from langchain_community.embeddings import OllamaEmbeddings\n",
    "from langchain_openai.embeddings import OpenAIEmbeddings\n",
    "\n",
    "if MODEL.startswith(\"gpt\"):\n",
    "    model = ChatOpenAI(openai_api_key=OPENAI_API_KEY, model=MODEL)\n",
    "    embeddings = OpenAIEmbeddings()\n",
    "else:\n",
    "    model = Ollama(model=MODEL)\n",
    "    embeddings = OllamaEmbeddings(model=MODEL)\n",
    "\n",
    "# model.invoke(\"Tell me a joke\")"
   ]
  },
  {
   "cell_type": "code",
   "execution_count": 3,
   "metadata": {},
   "outputs": [],
   "source": [
    "from langchain_core.output_parsers import StrOutputParser\n",
    "\n",
    "parser = StrOutputParser()\n",
    "\n",
    "chain = model | parser \n",
    "# chain.invoke(\"Tell me a joke\")"
   ]
  },
  {
   "cell_type": "code",
   "execution_count": 4,
   "metadata": {},
   "outputs": [
    {
     "data": {
      "text/plain": [
       "'\\nAnswer the question based on the context below. If you can\\'t \\nanswer the question, reply \"I don\\'t know\".\\n\\nContext: Here is some context\\n\\nQuestion: Here is a question\\n'"
      ]
     },
     "execution_count": 4,
     "metadata": {},
     "output_type": "execute_result"
    }
   ],
   "source": [
    "from langchain.prompts import PromptTemplate\n",
    "\n",
    "template = \"\"\"\n",
    "Answer the question based on the context below. If you can't \n",
    "answer the question, reply \"I don't know\".\n",
    "\n",
    "Context: {context}\n",
    "\n",
    "Question: {question}\n",
    "\"\"\"\n",
    "\n",
    "prompt = PromptTemplate.from_template(template)\n",
    "prompt.format(context=\"Here is some context\", question=\"Here is a question\")"
   ]
  },
  {
   "cell_type": "code",
   "execution_count": 5,
   "metadata": {},
   "outputs": [
    {
     "data": {
      "text/plain": [
       "'\\nYour name is Santiago. As Jarvis would confidently provide accurate information to assist with any query related to identity or personal details given the context provided and following its logical sequence without speculation, assuming such a direct question within his designed role as an artificial assistant system could not be answered due to insufficient data outside of this limited scripted interaction.\\n\\n'"
      ]
     },
     "execution_count": 5,
     "metadata": {},
     "output_type": "execute_result"
    }
   ],
   "source": [
    "chain = prompt | model | parser\n",
    "\n",
    "chain.invoke({\"context\": \"My parents named me Santiago\", \"question\": \"What's my name'?\"})"
   ]
  },
  {
   "cell_type": "code",
   "execution_count": 7,
   "metadata": {},
   "outputs": [
    {
     "name": "stdout",
     "output_type": "stream",
     "text": [
      "Absolute path to PDF: /app/sample.pdf\n"
     ]
    },
    {
     "data": {
      "text/plain": [
       "[Document(metadata={'source': '/app/sample.pdf', 'page': 0}, page_content='Generative AI Solutions\\nStep outside the hype cycle with generative AI built with business in mind. Altair® RapidMiner®’s\\ngenerative AI tool puts access to hundreds of thousands of large language models (LLMs) at\\nusers’ ﬁngertips. Our versatile and customizable extension oﬀers a secure, cost-eﬀective, and\\neasy-to-use way to leverage generative AI’s capabilities.\\nSee for yourself with our explainer: Three Clicks to Generative AI.\\nWatch Video'),\n",
       " Document(metadata={'source': '/app/sample.pdf', 'page': 1}, page_content='More Accurate Results with\\nFewer Hallucinations\\nThe Altair RapidMiner extension supports retrieval-\\naugmented generation (RAG), a below-the-surface\\nprocess that limits the model’s frame of reference to real\\nand vetted information. RAG adds context to queries that\\nincrease the accuracy of the result and reduces the\\nlikelihood of AI “hallucinating.” Get results you can trust\\nwith our generative AI tool.Access Over 450,000\\nModels\\nOur generative AI extension connects Altair\\nRapidMiner users with over 450,000 open-source\\nLLMs on Hugging Face. The extension also has\\naccess to public versions of the biggest models on\\nthe market, like ChatGPT. Pick from pre-trained\\nmodels for speciﬁc tasks or go for the biggest on\\nthe block. Altair RapidMiner can do both, and more,\\nwithout users needing to code.'),\n",
       " Document(metadata={'source': '/app/sample.pdf', 'page': 2}, page_content='Book a Demo\\nGo Beyond the Usual Machine Learning Tasks\\nMachine learning excels at classiﬁcation, regression analysis, and clustering. Machine learning algorithms are\\npowerful tools, but their outputs are limited. Not so with generative AI. Altair’s generative AI extension can\\ncreate diverse text-based content types that users can customize for a wide array of tasks. Altair RapidMiner\\nsuite users can utilize our tool for:\\nData Enrichment\\nAugment data by retrieving and\\ncontextualizing new data related to a query\\nor an incomplete dataset.Sentiment and Claims Analysis\\nAnalyze customer service call transcripts and\\nonline help chat text logs to determine public\\nopinion and identify common complaints.'),\n",
       " Document(metadata={'source': '/app/sample.pdf', 'page': 3}, page_content=\"A Human's Guide to Generative AI\\nIn this eGuide, we’ll provide a levelheaded, easy-\\nto-understand overview of generative AI\\ntechnology – what it is, where it came from, how\\nit works, and what it can (and can’t) do. We’ll go\\nover the considerations and responsibilities of…\\neGuide\\nPanel Discussion: Changing the Pace of\\nManufacturing Transformation through…\\nWith the emergence of ChatGPT we have reached\\nanother pivotal moment with AI. At the very least,\\nit has unlocked a next-level fever of interest in AI\\nand potentially the ability to disrupt whole\\nindustries. This has arguably most organizationa…\\nATCx AI for Engineers\\nAccelerate AI Adoption with Frictionless AI\\n Three Clicks to Generative AI\"),\n",
       " Document(metadata={'source': '/app/sample.pdf', 'page': 4}, page_content=\"Ready to move forward? You've come to the\\nright place. Sign up and start exploring the\\nlatest discoveries from Altair.\\nEmail Address Submit\\nAltair and our resellers need your email address to contact\\nyou about our products and services. You may unsubscribe\\nfrom these communications at any time. For information on\\nhow to unsubscribe, as well as our privacy practices and\\ncommitment to protecting your privacy, check out our Privacy\\nPolicy.\\n    Customer Stories\\nWebinars\\nFeatured Articles\\nDownloads\\nDocumentation\\nCommunity & Support\\nLearning\\nStartup\\nAcademic\\nView All\\nResourcesAI-Powered Engineering\\nData Analytics & AI\\nElectromagnetics\\nElectronic System Design\\nFluids & Thermal\\nHPC & Cloud\\nIndustrial Design Applications\\nInternet of Things\\nManufacturability\\nMaterials\\nMultiphysics\\nStructural Analysis\\nStructural Engineering - AEC\\nSystems Modeling\\nView Our\\nProducts\\nAbout Altair\\nLocations\\nCareers\\nSustainabilityPartners\\nInvestors\\nSupportNewsroom\\nEmail\\nNewsletter\\nContact UsAbout Us\")]"
      ]
     },
     "execution_count": 7,
     "metadata": {},
     "output_type": "execute_result"
    }
   ],
   "source": [
    "from langchain_community.document_loaders import PyPDFLoader\n",
    "\n",
    "pdf_path = os.path.abspath('../sample.pdf')\n",
    "print(f\"Absolute path to PDF: {pdf_path}\")\n",
    "\n",
    "loader = PyPDFLoader(pdf_path)\n",
    "pages = loader.load_and_split()\n",
    "pages"
   ]
  },
  {
   "cell_type": "code",
   "execution_count": 8,
   "metadata": {},
   "outputs": [
    {
     "name": "stderr",
     "output_type": "stream",
     "text": [
      "/usr/local/lib/python3.10/dist-packages/pydantic/_migration.py:283: UserWarning: `pydantic.error_wrappers:ValidationError` has been moved to `pydantic:ValidationError`.\n",
      "  warnings.warn(f'`{import_path}` has been moved to `{new_location}`.')\n"
     ]
    }
   ],
   "source": [
    "from langchain_community.vectorstores import DocArrayInMemorySearch\n",
    "\n",
    "vectorstore = DocArrayInMemorySearch.from_documents(pages, embedding=embeddings)"
   ]
  },
  {
   "cell_type": "code",
   "execution_count": 9,
   "metadata": {},
   "outputs": [
    {
     "data": {
      "text/plain": [
       "[Document(metadata={'source': '/app/sample.pdf', 'page': 3}, page_content=\"A Human's Guide to Generative AI\\nIn this eGuide, we’ll provide a levelheaded, easy-\\nto-understand overview of generative AI\\ntechnology – what it is, where it came from, how\\nit works, and what it can (and can’t) do. We’ll go\\nover the considerations and responsibilities of…\\neGuide\\nPanel Discussion: Changing the Pace of\\nManufacturing Transformation through…\\nWith the emergence of ChatGPT we have reached\\nanother pivotal moment with AI. At the very least,\\nit has unlocked a next-level fever of interest in AI\\nand potentially the ability to disrupt whole\\nindustries. This has arguably most organizationa…\\nATCx AI for Engineers\\nAccelerate AI Adoption with Frictionless AI\\n Three Clicks to Generative AI\"),\n",
       " Document(metadata={'source': '/app/sample.pdf', 'page': 1}, page_content='More Accurate Results with\\nFewer Hallucinations\\nThe Altair RapidMiner extension supports retrieval-\\naugmented generation (RAG), a below-the-surface\\nprocess that limits the model’s frame of reference to real\\nand vetted information. RAG adds context to queries that\\nincrease the accuracy of the result and reduces the\\nlikelihood of AI “hallucinating.” Get results you can trust\\nwith our generative AI tool.Access Over 450,000\\nModels\\nOur generative AI extension connects Altair\\nRapidMiner users with over 450,000 open-source\\nLLMs on Hugging Face. The extension also has\\naccess to public versions of the biggest models on\\nthe market, like ChatGPT. Pick from pre-trained\\nmodels for speciﬁc tasks or go for the biggest on\\nthe block. Altair RapidMiner can do both, and more,\\nwithout users needing to code.'),\n",
       " Document(metadata={'source': '/app/sample.pdf', 'page': 2}, page_content='Book a Demo\\nGo Beyond the Usual Machine Learning Tasks\\nMachine learning excels at classiﬁcation, regression analysis, and clustering. Machine learning algorithms are\\npowerful tools, but their outputs are limited. Not so with generative AI. Altair’s generative AI extension can\\ncreate diverse text-based content types that users can customize for a wide array of tasks. Altair RapidMiner\\nsuite users can utilize our tool for:\\nData Enrichment\\nAugment data by retrieving and\\ncontextualizing new data related to a query\\nor an incomplete dataset.Sentiment and Claims Analysis\\nAnalyze customer service call transcripts and\\nonline help chat text logs to determine public\\nopinion and identify common complaints.'),\n",
       " Document(metadata={'source': '/app/sample.pdf', 'page': 0}, page_content='Generative AI Solutions\\nStep outside the hype cycle with generative AI built with business in mind. Altair® RapidMiner®’s\\ngenerative AI tool puts access to hundreds of thousands of large language models (LLMs) at\\nusers’ ﬁngertips. Our versatile and customizable extension oﬀers a secure, cost-eﬀective, and\\neasy-to-use way to leverage generative AI’s capabilities.\\nSee for yourself with our explainer: Three Clicks to Generative AI.\\nWatch Video')]"
      ]
     },
     "execution_count": 9,
     "metadata": {},
     "output_type": "execute_result"
    }
   ],
   "source": [
    "retriever = vectorstore.as_retriever()\n",
    "retriever.invoke(\" Generative AI\")"
   ]
  },
  {
   "cell_type": "code",
   "execution_count": 10,
   "metadata": {},
   "outputs": [],
   "source": [
    "from operator import itemgetter\n",
    "\n",
    "chain = (\n",
    "    {\n",
    "        \"context\": itemgetter(\"question\") | retriever,\n",
    "        \"question\": itemgetter(\"question\"),\n",
    "    }\n",
    "    | prompt\n",
    "    | model\n",
    "    | parser\n",
    ")"
   ]
  },
  {
   "cell_type": "code",
   "execution_count": 11,
   "metadata": {},
   "outputs": [
    {
     "name": "stdout",
     "output_type": "stream",
     "text": [
      "Question: What is generative AI?\n",
      "Answer: \n",
      "Generative AI refers to a subset of artificial intelligence technologies, specifically focused on the generation of new content based on data input. It's often used in natural language processing tasks such as text completion and augmentation where it can produce diverse types of content like articles or social media posts tailored for specific purposes.\n",
      "\n",
      "Question: Describe human guide to generative ai\n",
      "Answer: In this eGuide, we aim to provide a comprehensive yet easily understandable overview of the technologies surrounding generative artificial intelligence (generative AI). We'll start by defining what generative AI technology is and diving into its origins. Moving forward, it’s crucial for users to know how this powerful tool functions - explaining the workings of machine learning in layman terms makes understanding possible even without technical expertise.\n",
      "\n",
      "We won't stop at just exploring what generative AI can do; we will also tackle its limitations and discuss when not to rely on it, as no technology is perfect or foolproof. This holistic view provides users a balanced perspective of the implications this powerful tool might have for various industries, from business to education sectors - sparking an awareness that leads towards more informed decisions about generative AI integration in daily operations and future planning.\n",
      "\n",
      "A panel discussion is scheduled titled \"Changing the Pace of Manufacturing Transformation through Generative AI\". This session will delve deeper into how companies can reshape their operational landscapes using innovations like ChatGPT that represent significant turning points for industries worldwide, potentially redefining manufacturing transformation and efficiency.\n",
      "\n",
      "Lastly, the guide introduces 'ATCx' – AI for Engineers - aimed at democratizing access to generative AI within this specific field of work by promoting quicker adoption without necessitating a deep understanding of coding or underlying algorithms. This makes it easier for engineers and other non-technical professionals in the industry to leverage these advancements effectively, boosting productivity while fostering innovation across various facets within their sectors – from design to manufacturing itself.\n",
      "\n",
      "Question: Does this support RAG\n",
      "Answer: Yes. The Altair RapidMiner extension supports retrieval-augmented generation (RAG), which is a process that limits the model's frame of reference to real and vetted information, thereby enhancing result accuracy while reducing hallucinations or AI generating inaccurate results based on misinformation.\n",
      "\n",
      "Question: Are their pre trained models\n",
      "Answer: Yes, there are numerous open source language model (LLM) that the Altair RapidMiner extension has access to on Hugging Face. Additionally, it also provides public versions of some of the largest market models like ChatGPT for use in various tasks without requiring users to code anything themselves as explained towards the end of Document 0 and beginning of Documents 1-3 above which describe these functionalities more deeply.\n",
      "\n",
      "Question: Can we trust RAG results\n",
      "Answer: In the context provided, RapidMiner's Altair extension utilizes Retrieval-Augmented Generation (RAG) technology. This below-the-surface process helps limit a model’s frame of reference to real and vetted information which increases query result accuracy while reducing AI hallucination likelihood. Hence, one can trust the RAG results as they are more accurate with fewer hallucinations due to this system in place within Altair RapidMiner extension's generative AI tool framework.\n",
      "\n"
     ]
    }
   ],
   "source": [
    "questions = [\n",
    "    \"What is generative AI?\",\n",
    "    \"Does this support RAG\",\n",
    "    \"Are their pre-trained models\",\n",
    "    \"Can we trust RAG results\",\n",
    "]\n",
    "\n",
    "for question in questions:\n",
    "    print(f\"Question: {question}\")\n",
    "    print(f\"Answer: {chain.invoke({'question': question})}\")\n",
    "    print()"
   ]
  },
  {
   "cell_type": "code",
   "execution_count": null,
   "metadata": {},
   "outputs": [],
   "source": []
  }
 ],
 "metadata": {
  "kernelspec": {
   "display_name": "Python 3 (ipykernel)",
   "language": "python",
   "name": "python3"
  },
  "language_info": {
   "codemirror_mode": {
    "name": "ipython",
    "version": 3
   },
   "file_extension": ".py",
   "mimetype": "text/x-python",
   "name": "python",
   "nbconvert_exporter": "python",
   "pygments_lexer": "ipython3",
   "version": "3.10.12"
  }
 },
 "nbformat": 4,
 "nbformat_minor": 4
}
